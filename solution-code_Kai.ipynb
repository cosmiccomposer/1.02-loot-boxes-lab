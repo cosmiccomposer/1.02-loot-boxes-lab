{
 "cells": [
  {
   "cell_type": "markdown",
   "metadata": {},
   "source": [
    "# \"Fun with Loot Boxes\" Lab\n",
    "\n",
    "> Author: Caroline Schmitt, Matt Brems\n",
    "\n",
    "### Scenario:\n",
    "\n",
    "You're an analyst for [Zynga](https://en.wikipedia.org/wiki/Zynga), a gaming studio working on an event for an MMO (massively multiplayer online) game. This event is going to include **loot boxes**.\n",
    "\n",
    "<img src=\"https://vignette.wikia.nocookie.net/2007scape/images/0/06/Culinaromancer%27s_chest.png/revision/latest?cb=20180403231423\" alt=\"drawing\" width=\"150\"/> \n",
    "\n",
    "A loot box is basically a treasure chest in a game. This loot box can be opened to reveal a variety of items: some items are very rare and valuable, other items are common and less valuable. (You may consult [the esteemed Wikipedia](https://en.wikipedia.org/wiki/Loot_box) for a more extensive definition.)\n",
    "\n",
    "In our specific game, suppose that loot boxes can be obtained in one of two ways: \n",
    "- After every three hours of playing the game, a user will earn one loot box.\n",
    "- If the user wishes to purchase a loot box, they may pay $1 (in real money!) for a loot box.\n",
    "\n",
    "These loot boxes are very good for our business!\n",
    "- If a player earns a loot box, it means they are spending lots of time on the game. This often leads to advertisement revenue, they may tell their friends to join the game, etc.\n",
    "- If the player purchases a loot box, it means we've earned $1 from our customer.\n",
    "\n",
    "Suppose each loot box is opened to reveal either:\n",
    "- magical elixir (super rare, very valuable), or\n",
    "- nothing.\n",
    "\n",
    "Whether each loot box contains the elixir or nothing is **random**. Our boss wants some guidance on what sort of randomness to use on these loot boxes! \n",
    "- If the magical elixir is too rare, then users may not be motivated to try to get them, because they believe they'll never find the magical elixir.\n",
    "- If the magical elixir is too common, then users may not be motivated to try to get them, because the game has so much of the magical elixir that it isn't worthwhile to try to get it.\n",
    "\n",
    "However, our boss isn't a math-y type person! When explaining things to our boss, we need to explain the impact of our choices on the game as concretely as possible.\n",
    "\n",
    "### Version 1\n",
    "In our first version of the game, we'll say that loot boxes contain magical elixir 15% of the time and nothing 85% of the time.\n",
    "\n",
    "#### 1. Our boss asks, \"If a user buys 100 loot boxes, how many elixirs will they get?\" How would you respond?"
   ]
  },
  {
   "cell_type": "markdown",
   "metadata": {},
   "source": [
    "The user is expected to get 15 (i.e., 100 * 15%) elixirs."
   ]
  },
  {
   "cell_type": "markdown",
   "metadata": {},
   "source": [
    "#### 2. Our boss asks, \"How many loot boxes does someone have to purchase in order to definitely get elixir?\" How would you respond?"
   ]
  },
  {
   "cell_type": "markdown",
   "metadata": {},
   "source": [
    "If the user buy 24 boxes, he can almost certainly get an elixir."
   ]
  },
  {
   "cell_type": "code",
   "execution_count": 2,
   "metadata": {},
   "outputs": [],
   "source": [
    "import numpy as np\n",
    "import scipy.stats as stats\n",
    "import matplotlib.pyplot as plt\n",
    "\n",
    "%matplotlib inline\n",
    "\n",
    "p_elixir = .15\n",
    "n_box = 100\n",
    "\n",
    "elixir_dist = stats.binom(n_box, p_elixir)\n",
    "elixir_prob = list(range(1,n_box+1))\n",
    "# elixir_prob[:5]"
   ]
  },
  {
   "cell_type": "code",
   "execution_count": 3,
   "metadata": {},
   "outputs": [
    {
     "data": {
      "text/plain": [
       "[<matplotlib.lines.Line2D at 0x1a1fae3668>]"
      ]
     },
     "execution_count": 3,
     "metadata": {},
     "output_type": "execute_result"
    },
    {
     "data": {
      "image/png": "[encoded data removed]",
      "text/plain": [
       "<Figure size 432x288 with 1 Axes>"
      ]
     },
     "metadata": {
      "needs_background": "light"
     },
     "output_type": "display_data"
    }
   ],
   "source": [
    "plt.step(elixir_prob, elixir_dist.cdf(elixir_prob))"
   ]
  },
  {
   "cell_type": "code",
   "execution_count": 4,
   "metadata": {},
   "outputs": [
    {
     "name": "stdout",
     "output_type": "stream",
     "text": [
      "It is very unlikely for a user to buy 24 boxes and not get an elixir.\n"
     ]
    }
   ],
   "source": [
    "# Calculate the number of boxes that a user has to buy to ensure a 99% chance of getting an elixir\n",
    "box_buy = 0 # Start from buying 0 boxes\n",
    "prob_threshold = .99 # set the threshold to be 99%\n",
    "while elixir_dist.cdf(box_buy) <= prob_threshold:\n",
    "    box_buy += 1\n",
    "print(f'It is very unlikely for a user to buy {box_buy} boxes and not get an elixir.')"
   ]
  },
  {
   "cell_type": "markdown",
   "metadata": {},
   "source": [
    "#### 3. Our boss asks, \"If a user earns 100 loot boxes, what is the chance that a user gets more than 20 elixirs?\" This is a bit more complicated, so let's break it down before answering."
   ]
  },
  {
   "cell_type": "markdown",
   "metadata": {},
   "source": [
    "#### 3a. Let's suppose my random variable $X$ counts up how many elixirs I observe out of my 100 loot boxes. Why is $X$ a discrete random variable?"
   ]
  },
  {
   "cell_type": "markdown",
   "metadata": {},
   "source": [
    "X is a discrete random variable because it is countable and getting an elixir does not increase or decrease the user's chance of getting another (independence)"
   ]
  },
  {
   "cell_type": "code",
   "execution_count": 5,
   "metadata": {},
   "outputs": [
    {
     "name": "stdout",
     "output_type": "stream",
     "text": [
      "If a user earns 100 loot boxes, the chance that a user gets more than 20 elixirs is 0.06631976581888166\n"
     ]
    }
   ],
   "source": [
    "chance_of_get_20_more = 1 - elixir_dist.cdf(20)\n",
    "print(f'If a user earns 100 loot boxes, the chance that a user gets more than 20 elixirs is {chance_of_get_20_more}')"
   ]
  },
  {
   "cell_type": "markdown",
   "metadata": {},
   "source": [
    "#### 3b. Recall our discrete distributions: discrete uniform, Bernoulli, binomial, Poisson. Let's suppose my random variable $X$ counts up how many elixirs I observe out of my 100 loot boxes. What distribution is best suited for $X$? Why?\n",
    "- Hint: It may help to consider getting the magical elixir a \"success\" and getting nothing a \"failure.\" "
   ]
  },
  {
   "cell_type": "markdown",
   "metadata": {},
   "source": [
    "X is binomial distribution. Because:\n",
    "1. The probablity for an box to contain an elixir is known (success rate): 15%\n",
    "2. The number of box to purchase is known (number of trials): 100\n",
    "3. The chance of getting one elixir does not affect that of getting the next elixir."
   ]
  },
  {
   "cell_type": "markdown",
   "metadata": {},
   "source": [
    "3c. Our boss asks, \"If a user earns 100 loot boxes, what is the chance that a user gets more than 20 elixirs?\" Use the probability mass function to answer the boss' question."
   ]
  },
  {
   "cell_type": "code",
   "execution_count": 6,
   "metadata": {},
   "outputs": [],
   "source": [
    "# Show your work; leave your answer in a comment.\n",
    "import numpy as np\n",
    "import matplotlib.pyplot as plt\n",
    "import scipy.stats as stats\n",
    "\n",
    "%matplotlib inline"
   ]
  },
  {
   "cell_type": "code",
   "execution_count": 7,
   "metadata": {},
   "outputs": [
    {
     "name": "stdout",
     "output_type": "stream",
     "text": [
      "If a user earns 100 loot boxes, the chance tht a user gets 20 elixirs is 0.06631976581888699\n"
     ]
    }
   ],
   "source": [
    "p_elixir = .15\n",
    "n_boxes = 100\n",
    "elixir_stats = stats.binom(n_boxes, p_elixir)\n",
    "\n",
    "chance_of_get_20_more = 1 - sum(elixir_stats.pmf(i) for i in range(0, 21))\n",
    "print(f'If a user earns 100 loot boxes, the chance tht a user gets 20 elixirs is {chance_of_get_20_more}')"
   ]
  },
  {
   "cell_type": "code",
   "execution_count": 8,
   "metadata": {},
   "outputs": [],
   "source": [
    "# If a user earns 100 loot boxes, the chance that a user gets 20 elixirs is 4.0%."
   ]
  },
  {
   "cell_type": "markdown",
   "metadata": {},
   "source": [
    "#### 3d. Our boss asks, \"If a user earns 100 loot boxes, what is the chance that a user gets more than 20 elixirs?\" Use the cumulative distribution function to answer the boss' question."
   ]
  },
  {
   "cell_type": "code",
   "execution_count": 9,
   "metadata": {},
   "outputs": [
    {
     "name": "stdout",
     "output_type": "stream",
     "text": [
      "If a user earns 100 loot boxes, the chance that a user gets more than 20 elixirs is 0.06631976581888166\n"
     ]
    }
   ],
   "source": [
    "# Show your work; leave your answer in a comment.\n",
    "chance_of_get_20_more = 1 - elixir_stats.cdf(20)\n",
    "print(f'If a user earns 100 loot boxes, the chance that a user gets more than 20 elixirs is {chance_of_get_20_more}')"
   ]
  },
  {
   "cell_type": "code",
   "execution_count": 10,
   "metadata": {},
   "outputs": [],
   "source": [
    "# If a user earns 100 loot boxes, the chance that a user gets more than 20 elixirs is 6.6%."
   ]
  },
  {
   "cell_type": "markdown",
   "metadata": {},
   "source": [
    "#### 3e. Our boss asks, \"If a user earns 100 loot boxes, what is the chance that a user gets more than 20 elixirs?\" Answer your boss' question. *Remember that your boss is not a math-y person!*"
   ]
  },
  {
   "cell_type": "code",
   "execution_count": 11,
   "metadata": {},
   "outputs": [],
   "source": [
    "# If there are 100 users who buy 100 loot boxes, about 6 or 7 of them would get more than 20 elixirs."
   ]
  },
  {
   "cell_type": "markdown",
   "metadata": {},
   "source": [
    "#### 4. Your boss wants to know how many people purchased how many loot boxes last month. \n",
    "> For example, last month, 70% of users did not purchase any loot boxes. 10% of people purchased one loot box. 5% of people purchased two loot boxes... and so on.\n",
    "\n",
    "#### 4a. Recall our discrete distributions: discrete uniform, Bernoulli, binomial, Poisson. Let's suppose my random variable $Y$ counts up how many loot boxes each person purchased through the game last month. What distribution is best suited for $Y$? Why?"
   ]
  },
  {
   "cell_type": "markdown",
   "metadata": {},
   "source": [
    "Poisson distribution is best suited for Y, because:\n",
    "1. We are investigate the success rate within certain period of time: number of box purchased per person (buy = success)\n",
    "2. The average success rate will be given."
   ]
  },
  {
   "cell_type": "markdown",
   "metadata": {},
   "source": [
    "#### 4b. Suppose that, on average, your customers purchased 2.7 loot boxes last month. In order for your revenue to be at least $500,000, at least how many users would you need on your platform? (Round your answer up to the nearest thousand.) "
   ]
  },
  {
   "cell_type": "code",
   "execution_count": 12,
   "metadata": {},
   "outputs": [
    {
     "data": {
      "text/plain": [
       "185185.18518518517"
      ]
     },
     "execution_count": 12,
     "metadata": {},
     "output_type": "execute_result"
    }
   ],
   "source": [
    "# Show your work; leave your answer in a comment.\n",
    "rev_target = 500_000\n",
    "price_box = 1\n",
    "box_per_user = 2.7\n",
    "rev_per_user = price_box * box_per_user\n",
    "n_user_exact = 500_000 / 2.7\n",
    "n_user_exact"
   ]
  },
  {
   "cell_type": "code",
   "execution_count": 13,
   "metadata": {},
   "outputs": [
    {
     "name": "stdout",
     "output_type": "stream",
     "text": [
      "At least 186000 users would need to be on your platform for revenue to be at least $500_000\n"
     ]
    }
   ],
   "source": [
    "# round up to nearest thousand\n",
    "n_user_round = round((n_user_exact + 500), -3) \n",
    "print(f'At least {round(n_user_round)} users would need to be on your platform for revenue to be at least $500_000')"
   ]
  },
  {
   "cell_type": "code",
   "execution_count": 14,
   "metadata": {},
   "outputs": [],
   "source": [
    "# At least 186,000 users would need to be on your platform for revenue to be at least $500_000"
   ]
  },
  {
   "cell_type": "markdown",
   "metadata": {},
   "source": [
    "#### 4c. Assume that your platform has the numer of users you mentioned in your last answer. Suppose that your platform calls anyone who purchases 5 or more loot boxes in a month a \"high value user.\" How much money do you expect to have earned from \"high value users?\" How about \"low value users?\""
   ]
  },
  {
   "cell_type": "code",
   "execution_count": 15,
   "metadata": {},
   "outputs": [
    {
     "data": {
      "text/plain": [
       "array([6.72055127e-02, 1.81454884e-01, 2.44964094e-01, 2.20467685e-01,\n",
       "       1.48815687e-01, 8.03604710e-02, 3.61622120e-02, 1.39482818e-02,\n",
       "       4.70754509e-03, 1.41226353e-03, 3.81311152e-04, 9.35945556e-05,\n",
       "       2.10587750e-05, 4.37374558e-06, 8.43508076e-07, 1.51831454e-07,\n",
       "       2.56215578e-08, 4.06930624e-09, 6.10395936e-10, 8.67404751e-11])"
      ]
     },
     "execution_count": 15,
     "metadata": {},
     "output_type": "execute_result"
    }
   ],
   "source": [
    "# Calculate the probability of a user who buys 0 to 20 boxes during the game last month\n",
    "purchase_stats = stats.poisson(rev_per_user)\n",
    "n_box = list(range(0,20))\n",
    "purchase_prob = np.array([purchase_stats.pmf(box) for box in n_box])\n",
    "purchase_prob"
   ]
  },
  {
   "cell_type": "code",
   "execution_count": 16,
   "metadata": {},
   "outputs": [
    {
     "data": {
      "image/png": "[encoded data removed]",
      "text/plain": [
       "<Figure size 432x288 with 1 Axes>"
      ]
     },
     "metadata": {
      "needs_background": "light"
     },
     "output_type": "display_data"
    }
   ],
   "source": [
    "# Plot the probability of a user who buys 0 to 20 boxes during the game last month\n",
    "plt.bar(n_box, purchase_stats.pmf(n_box))\n",
    "plt.xticks(n_box);"
   ]
  },
  {
   "cell_type": "code",
   "execution_count": 17,
   "metadata": {},
   "outputs": [
    {
     "data": {
      "image/png": "[encoded data removed]",
      "text/plain": [
       "<Figure size 432x288 with 1 Axes>"
      ]
     },
     "metadata": {
      "needs_background": "light"
     },
     "output_type": "display_data"
    }
   ],
   "source": [
    "# Plot the number of users who bought 0 to 20 boxes during the game last month\n",
    "n_buyer = purchase_prob * n_user_round\n",
    "plt.bar(n_box, n_buyer)\n",
    "plt.xticks(n_box);"
   ]
  },
  {
   "cell_type": "code",
   "execution_count": 18,
   "metadata": {},
   "outputs": [
    {
     "data": {
      "text/plain": [
       "array([0.00000000e+00, 3.37506085e+04, 9.11266429e+04, 1.23020968e+05,\n",
       "       1.10718871e+05, 7.47352380e+04, 4.03570285e+04, 1.81606628e+04,\n",
       "       7.00482710e+03, 2.36412915e+03, 7.09238744e+02, 1.91494461e+02,\n",
       "       4.70031858e+01, 1.05757168e+01, 2.19649503e+00, 4.23609756e-01,\n",
       "       7.62497560e-02, 1.28671463e-02, 2.04360559e-03, 3.06540839e-04])"
      ]
     },
     "execution_count": 18,
     "metadata": {},
     "output_type": "execute_result"
    }
   ],
   "source": [
    "# Calculating the revenue from users who bought 0 to 20 boxes during the game last month\n",
    "rev_stats = np.array(n_box * price_box) * np.array(n_buyer)\n",
    "rev_stats"
   ]
  },
  {
   "cell_type": "code",
   "execution_count": 19,
   "metadata": {},
   "outputs": [
    {
     "data": {
      "image/png": "[encoded data removed]",
      "text/plain": [
       "<Figure size 432x288 with 1 Axes>"
      ]
     },
     "metadata": {
      "needs_background": "light"
     },
     "output_type": "display_data"
    }
   ],
   "source": [
    "plt.bar(n_box, rev_stats)\n",
    "plt.xticks(n_box);"
   ]
  },
  {
   "cell_type": "code",
   "execution_count": 20,
   "metadata": {},
   "outputs": [
    {
     "name": "stdout",
     "output_type": "stream",
     "text": [
      "The revenue from High Value User is 143583.0\n"
     ]
    }
   ],
   "source": [
    "# Calculate the revenue from high value user (user with minimum purchase of 5 box) last month\n",
    "hvu_min_purchase = 5\n",
    "hvu_rev = sum(rev_stats[hvu_min_purchase:])\n",
    "print(f'The revenue from High Value User is {round(hvu_rev)}')"
   ]
  },
  {
   "cell_type": "code",
   "execution_count": 21,
   "metadata": {},
   "outputs": [
    {
     "name": "stdout",
     "output_type": "stream",
     "text": [
      "The revenue from Low Value User is 358617.0\n"
     ]
    }
   ],
   "source": [
    "# Calculate the revenue from low value user (user with minimum purchase of 5 box) last month\n",
    "lvu_rev = sum(rev_stats[:hvu_min_purchase])\n",
    "print(f'The revenue from Low Value User is {round(lvu_rev)}')"
   ]
  },
  {
   "cell_type": "code",
   "execution_count": 22,
   "metadata": {},
   "outputs": [
    {
     "data": {
      "image/png": "[encoded data removed]",
      "text/plain": [
       "<Figure size 432x288 with 1 Axes>"
      ]
     },
     "metadata": {
      "needs_background": "light"
     },
     "output_type": "display_data"
    }
   ],
   "source": [
    "# Alternatively calculating the HVU and LVU using cmf and total revenue of $500,000 as previously stated.\n",
    "cum_purchase_prob = np.array([purchase_stats.cdf(box) for box in n_box])\n",
    "plt.step(n_box, purchase_stats.cdf(n_box))\n",
    "plt.xticks(n_box);"
   ]
  },
  {
   "cell_type": "markdown",
   "metadata": {},
   "source": [
    "#### 4d. Suppose that you want to summarize how many people purchased how many loot boxes last month for your boss. Since your boss isn't math-y, what are 2-4 summary numbers you might use to summarize this for your boss? (Your answers will vary here - use your judgment!)"
   ]
  },
  {
   "cell_type": "markdown",
   "metadata": {},
   "source": [
    "1. mean: on average, each purson purchased between 2.7 boxes\n",
    "2. median: half of the people purchased 3 or more loot boxes\n",
    "3. mode: users who purchased 3 boxes have the largest population, about 12000."
   ]
  },
  {
   "cell_type": "markdown",
   "metadata": {},
   "source": [
    "#### 5. Your boss asks \"How many loot boxes does it take before someone gets their first elixir?\" Using `np.random.choice`, simulate how many loot boxes it takes somone to get their first elixir. \n",
    "- Start an empty list.\n",
    "- Use control flow to have someone open loot boxes repeatedly.\n",
    "- Once they open a loot box containing an elixir, record the number of loot boxes it took in the empty list.\n",
    "- Repeat this process 100,000 times. \n",
    "\n",
    "This simulates how long it takes for someone to open a loot box containing elixir. Share the 5th, 25th, 50th, 75th, and 95th percentiles.\n",
    "\n",
    "> You may find [this documentation](https://docs.scipy.org/doc/numpy/reference/generated/numpy.random.choice.html)  and [this documentation](https://docs.scipy.org/doc/numpy/reference/generated/numpy.percentile.html) helpful."
   ]
  },
  {
   "cell_type": "code",
   "execution_count": 23,
   "metadata": {},
   "outputs": [],
   "source": [
    "import numpy as np"
   ]
  },
  {
   "cell_type": "code",
   "execution_count": 24,
   "metadata": {},
   "outputs": [],
   "source": [
    "# Experiment on how many boxes a user has to open to obtain the first elixir\n",
    "# input: integer - number of trials\n",
    "# output: list of the number of attempts for each trial\n",
    "def experiment(n):\n",
    "    trials = []\n",
    "    for _ in range(n):\n",
    "        n_trial = 0\n",
    "        n_box_open = 0\n",
    "        while n_box_open <= 85:\n",
    "            n_box_open = np.random.randint(1,101)\n",
    "            n_trial += 1\n",
    "        trials.append(n_trial)\n",
    "    return trials"
   ]
  },
  {
   "cell_type": "code",
   "execution_count": 25,
   "metadata": {},
   "outputs": [
    {
     "name": "stdout",
     "output_type": "stream",
     "text": [
      "{5: 1.0, 25: 2.0, 50: 5.0, 75: 9.0, 95: 19.0}\n"
     ]
    }
   ],
   "source": [
    "# Try 100,000 trials using the experiment function\n",
    "trials = experiment(100000)\n",
    "first_elixir = np.array(trials)\n",
    "\n",
    "# Construct the the keys and values to store the percentile data\n",
    "pctl_keys = [5, 25, 50, 75, 95]\n",
    "pctl_values = [np.percentile(first_elixir, key) for key in pctl_keys]\n",
    "pctl = dict(zip(pctl_keys, pctl_values))\n",
    "print(pctl)"
   ]
  },
  {
   "cell_type": "code",
   "execution_count": 26,
   "metadata": {},
   "outputs": [
    {
     "name": "stdout",
     "output_type": "stream",
     "text": [
      "5th percentile: open 1.0 boxes before getting 1st elixir\n",
      "25th percentile: open 2.0 boxes before getting 1st elixir\n",
      "50th percentile: open 5.0 boxes before getting 1st elixir\n",
      "75th percentile: open 9.0 boxes before getting 1st elixir\n",
      "95th percentile: open 19.0 boxes before getting 1st elixir\n"
     ]
    }
   ],
   "source": [
    "for key, value in pctl.items():\n",
    "    print(f'{key}th percentile: open {value} boxes before getting 1st elixir')"
   ]
  },
  {
   "cell_type": "markdown",
   "metadata": {},
   "source": [
    "**NOTE**: When your Jupyter notebook is open, double-click on this Markdown cell! You can delete this text and put your answer to the previous problem in here."
   ]
  },
  {
   "cell_type": "markdown",
   "metadata": {},
   "source": [
    "### Version 2\n",
    "\n",
    "After a substantial update to the game, suppose every loot box can be opened to reveal *one of four different* items:\n",
    "- magical elixir (occurs 1% of the time, most valuable)\n",
    "- golden pendant (occurs 9% of the time, valuable)\n",
    "- steel armor (occurs 30% of the time, semi-valuable)\n",
    "- bronze coin (occurs 60% of the time, least valuable)"
   ]
  },
  {
   "cell_type": "markdown",
   "metadata": {},
   "source": [
    "#### 6. Suppose you want repeat problem 5 above, but do that for the version 2 loot boxes so you can track how many loot boxes are needed to get each item? (e.g. You'd like to be able to say that on average it takes 10 trials to get a golden pendant, 3 trials to get steel armor, and so on.) What Python datatype is the best way to store this data? Why?"
   ]
  },
  {
   "cell_type": "markdown",
   "metadata": {},
   "source": [
    "Dictionary would be the best way to store this data for the following since the data is in key (categorical) /value (numerical) pair."
   ]
  },
  {
   "cell_type": "markdown",
   "metadata": {},
   "source": [
    "#### 7. Suppose you and your boss want to measure whether \"Version 2\" is better than \"Version 1.\" What metrics do you think are important to measure? (Your answers will vary here - use your judgment!)"
   ]
  },
  {
   "cell_type": "markdown",
   "metadata": {},
   "source": [
    "I believe the following metrics are important to measure:\n",
    "1. The total revenue (increase or decrease).\n",
    "2. The number of users (increase or decrease).\n",
    "3. The average number of boxes each user buys (increase or decrease).\n",
    "4. The distribution of revenue from high value users and low value users.\n",
    "Item 1 measures the overall impact to the game income. Items 2-4 explains the changes (i.e., whether the revenue increase is due to more new users or existing users spending more or both)."
   ]
  }
 ],
 "metadata": {
  "kernelspec": {
   "display_name": "Python 3",
   "language": "python",
   "name": "python3"
  },
  "language_info": {
   "codemirror_mode": {
    "name": "ipython",
    "version": 3
   },
   "file_extension": ".py",
   "mimetype": "text/x-python",
   "name": "python",
   "nbconvert_exporter": "python",
   "pygments_lexer": "ipython3",
   "version": "3.7.3"
  }
 },
 "nbformat": 4,
 "nbformat_minor": 2
}
